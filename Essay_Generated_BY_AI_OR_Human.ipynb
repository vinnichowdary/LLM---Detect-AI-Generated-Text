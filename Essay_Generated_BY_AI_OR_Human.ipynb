{
 "cells": [
  {
   "cell_type": "code",
   "execution_count": 22,
   "id": "e9ae83a1",
   "metadata": {},
   "outputs": [],
   "source": [
    "import pandas as pd\n",
    "import numpy as np\n",
    "import spacy\n",
    "import string\n",
    "from sklearn.model_selection import train_test_split\n",
    "from sklearn.feature_extraction.text import CountVectorizer\n",
    "from sklearn.metrics import classification_report\n"
   ]
  },
  {
   "cell_type": "code",
   "execution_count": null,
   "id": "7906f339",
   "metadata": {},
   "outputs": [],
   "source": []
  },
  {
   "cell_type": "code",
   "execution_count": 23,
   "id": "2ef51dd2",
   "metadata": {},
   "outputs": [],
   "source": [
    "# Load Spacy model and set up stop words and punctuation\n",
    "nlp = spacy.load(\"en_core_web_sm\")\n",
    "stop_words = nlp.Defaults.stop_words\n",
    "punctuations = string.punctuation\n"
   ]
  },
  {
   "cell_type": "code",
   "execution_count": null,
   "id": "7a98efc1",
   "metadata": {},
   "outputs": [],
   "source": []
  },
  {
   "cell_type": "code",
   "execution_count": 24,
   "id": "c0e9bfe2",
   "metadata": {},
   "outputs": [],
   "source": [
    "def spacy_tokenizer(sentence, count_words=False):\n",
    "    if type(sentence) == float:\n",
    "        sentence = sentence\n",
    "    else:\n",
    "        doc = nlp(sentence)\n",
    "        mytokens = [word.lemma_.lower().strip() for word in doc]\n",
    "        mytokens = [word for word in mytokens if word not in stop_words and word not in punctuations]\n",
    "        sentence = \" \".join(mytokens)\n",
    "\n",
    "    if count_words:\n",
    "        word_count = len(mytokens)\n",
    "        return sentence, word_count\n",
    "    else:\n",
    "        return sentence\n",
    "\n"
   ]
  },
  {
   "cell_type": "code",
   "execution_count": 50,
   "id": "73924433",
   "metadata": {},
   "outputs": [
    {
     "data": {
      "text/html": [
       "<div>\n",
       "<style scoped>\n",
       "    .dataframe tbody tr th:only-of-type {\n",
       "        vertical-align: middle;\n",
       "    }\n",
       "\n",
       "    .dataframe tbody tr th {\n",
       "        vertical-align: top;\n",
       "    }\n",
       "\n",
       "    .dataframe thead th {\n",
       "        text-align: right;\n",
       "    }\n",
       "</style>\n",
       "<table border=\"1\" class=\"dataframe\">\n",
       "  <thead>\n",
       "    <tr style=\"text-align: right;\">\n",
       "      <th></th>\n",
       "      <th>id</th>\n",
       "      <th>prompt_id</th>\n",
       "      <th>text</th>\n",
       "      <th>generated</th>\n",
       "    </tr>\n",
       "  </thead>\n",
       "  <tbody>\n",
       "    <tr>\n",
       "      <th>0</th>\n",
       "      <td>0059830c</td>\n",
       "      <td>0</td>\n",
       "      <td>Cars. Cars have been around since they became ...</td>\n",
       "      <td>0</td>\n",
       "    </tr>\n",
       "    <tr>\n",
       "      <th>1</th>\n",
       "      <td>005db917</td>\n",
       "      <td>0</td>\n",
       "      <td>Transportation is a large necessity in most co...</td>\n",
       "      <td>0</td>\n",
       "    </tr>\n",
       "    <tr>\n",
       "      <th>2</th>\n",
       "      <td>008f63e3</td>\n",
       "      <td>0</td>\n",
       "      <td>\"America's love affair with it's vehicles seem...</td>\n",
       "      <td>0</td>\n",
       "    </tr>\n",
       "    <tr>\n",
       "      <th>3</th>\n",
       "      <td>00940276</td>\n",
       "      <td>0</td>\n",
       "      <td>How often do you ride in a car? Do you drive a...</td>\n",
       "      <td>0</td>\n",
       "    </tr>\n",
       "    <tr>\n",
       "      <th>4</th>\n",
       "      <td>00c39458</td>\n",
       "      <td>0</td>\n",
       "      <td>Cars are a wonderful thing. They are perhaps o...</td>\n",
       "      <td>0</td>\n",
       "    </tr>\n",
       "  </tbody>\n",
       "</table>\n",
       "</div>"
      ],
      "text/plain": [
       "         id  prompt_id                                               text  \\\n",
       "0  0059830c          0  Cars. Cars have been around since they became ...   \n",
       "1  005db917          0  Transportation is a large necessity in most co...   \n",
       "2  008f63e3          0  \"America's love affair with it's vehicles seem...   \n",
       "3  00940276          0  How often do you ride in a car? Do you drive a...   \n",
       "4  00c39458          0  Cars are a wonderful thing. They are perhaps o...   \n",
       "\n",
       "   generated  \n",
       "0          0  \n",
       "1          0  \n",
       "2          0  \n",
       "3          0  \n",
       "4          0  "
      ]
     },
     "execution_count": 50,
     "metadata": {},
     "output_type": "execute_result"
    }
   ],
   "source": [
    "# Load data\n",
    "data = pd.read_csv(\"llm-detect-ai-generated-text/train_essays.csv\")\n",
    "data.head()"
   ]
  },
  {
   "cell_type": "code",
   "execution_count": 26,
   "id": "f0109fcb",
   "metadata": {},
   "outputs": [],
   "source": [
    "# Tokenize and preprocess the text data\n",
    "data[['tokenized_Response', 'count']] = data['text'].apply(lambda x: pd.Series(spacy_tokenizer(x, count_words=True)))\n",
    "\n"
   ]
  },
  {
   "cell_type": "code",
   "execution_count": null,
   "id": "425a36ea",
   "metadata": {},
   "outputs": [],
   "source": []
  },
  {
   "cell_type": "code",
   "execution_count": null,
   "id": "9001de8c",
   "metadata": {},
   "outputs": [],
   "source": []
  },
  {
   "cell_type": "code",
   "execution_count": 27,
   "id": "918c4624",
   "metadata": {},
   "outputs": [],
   "source": [
    "# Build a vocabulary and reverse index\n",
    "vectorizer = CountVectorizer()\n",
    "X_vec = vectorizer.fit_transform(data['tokenized_Response'])\n",
    "vocab = vectorizer.get_feature_names_out() \n",
    "reverse_index = {word: index for index, word in enumerate(vocab)}\n"
   ]
  },
  {
   "cell_type": "code",
   "execution_count": 28,
   "id": "cce6de2c",
   "metadata": {},
   "outputs": [],
   "source": [
    "\n",
    "# Calculate probability of occurrence\n",
    "total_documents = len(data)\n",
    "word_occurrences = np.array(X_vec.sum(axis=0)).flatten()\n",
    "\n",
    "occurrence_probs = word_occurrences / total_documents\n",
    "\n"
   ]
  },
  {
   "cell_type": "code",
   "execution_count": 29,
   "id": "6a9d2a78",
   "metadata": {},
   "outputs": [],
   "source": [
    "# Calculate conditional probability based on the class (human or LLM)\n",
    "llm_indices = data[data['generated'] == 1].index\n",
    "human_indices = data[data['generated'] == 0].index\n"
   ]
  },
  {
   "cell_type": "code",
   "execution_count": 30,
   "id": "ac586ca5",
   "metadata": {},
   "outputs": [],
   "source": [
    "llm_documents = len(llm_indices)\n",
    "human_documents = len(human_indices)\n",
    "\n",
    "llm_word_occurrences = np.array(X_vec[llm_indices].sum(axis=0)).flatten()\n",
    "human_word_occurrences = np.array(X_vec[human_indices].sum(axis=0)).flatten()\n",
    "\n",
    "llm_probs = llm_word_occurrences / llm_documents\n",
    "human_probs = human_word_occurrences / human_documents\n",
    "\n",
    "# Calculate accuracy using dev dataset\n",
    "x_dev = vectorizer.transform(data['tokenized_Response'])\n",
    "y_dev = data['generated']\n",
    "\n"
   ]
  },
  {
   "cell_type": "code",
   "execution_count": 31,
   "id": "fd201ed8",
   "metadata": {},
   "outputs": [],
   "source": [
    "# Naive Bayes Classifier Implementation\n",
    "class NaiveBayesClassifier:\n",
    "    def __init__(self, alpha=1):\n",
    "        self.alpha = alpha\n",
    "        self.class_probs = None\n",
    "        self.word_probs = None\n",
    "\n",
    "    def fit(self, X, y):\n",
    "        num_docs, vocab_size = X.shape\n",
    "        unique_classes = np.unique(y)\n",
    "        num_classes = len(unique_classes)\n",
    "\n",
    "        # Calculate class probabilities\n",
    "        self.class_probs = np.zeros(num_classes)\n",
    "        for i, c in enumerate(unique_classes):\n",
    "            self.class_probs[i] = np.sum(y == c) / num_docs\n",
    "\n",
    "        # Calculate word probabilities with Laplace smoothing\n",
    "        self.word_probs = np.zeros((num_classes, vocab_size))\n",
    "        for i, c in enumerate(unique_classes):\n",
    "            class_docs = X[y == c]\n",
    "            total_words_in_class = np.sum(class_docs)\n",
    "            self.word_probs[i] = (np.sum(class_docs, axis=0) + self.alpha) / (total_words_in_class + self.alpha * vocab_size)\n",
    "\n",
    "            \n",
    "    def predict_proba(self, X):\n",
    "        num_docs, _ = X.shape\n",
    "        num_classes, vocab_size = self.word_probs.shape\n",
    "\n",
    "        # Use log probabilities to avoid underflow\n",
    "        log_class_probs = np.log(self.class_probs)\n",
    "        log_word_probs = np.log(self.word_probs)\n",
    "\n",
    "        # Calculate log likelihoods for each class\n",
    "        log_likelihoods = np.zeros((num_docs, num_classes))\n",
    "        for i in range(num_docs):\n",
    "            doc = X[i].toarray().flatten()  # Convert the sparse matrix to a dense array\n",
    "            log_likelihoods[i] = np.sum(log_word_probs * doc, axis=1) + log_class_probs\n",
    "\n",
    "        # Convert log likelihoods to probabilities using softmax\n",
    "        exp_log_likelihoods = np.exp(log_likelihoods - np.max(log_likelihoods, axis=1, keepdims=True))\n",
    "        probabilities = exp_log_likelihoods / np.sum(exp_log_likelihoods, axis=1, keepdims=True)\n",
    "\n",
    "        return probabilities        \n",
    "    \n",
    "    def predict(self, X):\n",
    "        num_docs, _ = X.shape\n",
    "        num_classes, vocab_size = self.word_probs.shape\n",
    "\n",
    "        # Use log probabilities to avoid underflow\n",
    "        log_class_probs = np.log(self.class_probs)\n",
    "        log_word_probs = np.log(self.word_probs)\n",
    "\n",
    "        # Calculate log likelihoods for each class\n",
    "        log_likelihoods = np.zeros((num_docs, num_classes))\n",
    "        for i in range(num_docs):\n",
    "            doc = X[i].toarray().flatten()  # Convert the sparse matrix to a dense array\n",
    "            log_likelihoods[i] = np.sum(log_word_probs * doc, axis=1) + log_class_probs\n",
    "\n",
    "        # Predict the class with the highest log likelihood\n",
    "        predictions = np.argmax(log_likelihoods, axis=1)\n",
    "        return predictions\n",
    "\n"
   ]
  },
  {
   "cell_type": "code",
   "execution_count": 32,
   "id": "1e580d4f",
   "metadata": {},
   "outputs": [],
   "source": [
    "# Split the data into training and testing sets\n",
    "x_train, x_test, y_train, y_test = train_test_split(X_vec, y, test_size=0.2, stratify=y)\n",
    "\n"
   ]
  },
  {
   "cell_type": "code",
   "execution_count": 33,
   "id": "0bad500c",
   "metadata": {},
   "outputs": [],
   "source": [
    "# Create and train the Naive Bayes Classifier\n",
    "alpha_value = 1  # You can experiment with different alpha values\n",
    "custom_nb_classifier = NaiveBayesClassifier(alpha=alpha_value)\n",
    "custom_nb_classifier.fit(x_train, y_train)\n"
   ]
  },
  {
   "cell_type": "code",
   "execution_count": 34,
   "id": "6e04e558",
   "metadata": {
    "scrolled": true
   },
   "outputs": [
    {
     "name": "stdout",
     "output_type": "stream",
     "text": [
      "Classification Report on Dev Set:\n",
      "              precision    recall  f1-score   support\n",
      "\n",
      "           0       1.00      1.00      1.00      1375\n",
      "           1       0.00      0.00      0.00         3\n",
      "\n",
      "    accuracy                           1.00      1378\n",
      "   macro avg       0.50      0.50      0.50      1378\n",
      "weighted avg       1.00      1.00      1.00      1378\n",
      "\n"
     ]
    }
   ],
   "source": [
    "\n",
    "# Make predictions on the dev set\n",
    "y_pred_custom = custom_nb_classifier.predict(x_dev)\n",
    "\n",
    "# Print classification report\n",
    "print(\"Classification Report on Dev Set:\")\n",
    "print(classification_report(y_pred_custom, y_dev))\n"
   ]
  },
  {
   "cell_type": "code",
   "execution_count": 45,
   "id": "1203bbca",
   "metadata": {},
   "outputs": [],
   "source": [
    "from sklearn.metrics import classification_report\n",
    "import seaborn as sns\n",
    "import matplotlib.pyplot as plt"
   ]
  },
  {
   "cell_type": "code",
   "execution_count": 46,
   "id": "2aa111f6",
   "metadata": {},
   "outputs": [
    {
     "name": "stderr",
     "output_type": "stream",
     "text": [
      "C:\\Users\\Abc\\anaconda3\\lib\\site-packages\\sklearn\\metrics\\_classification.py:1334: UndefinedMetricWarning: Precision and F-score are ill-defined and being set to 0.0 in labels with no predicted samples. Use `zero_division` parameter to control this behavior.\n",
      "  _warn_prf(average, modifier, msg_start, len(result))\n",
      "C:\\Users\\Abc\\anaconda3\\lib\\site-packages\\sklearn\\metrics\\_classification.py:1334: UndefinedMetricWarning: Precision and F-score are ill-defined and being set to 0.0 in labels with no predicted samples. Use `zero_division` parameter to control this behavior.\n",
      "  _warn_prf(average, modifier, msg_start, len(result))\n",
      "C:\\Users\\Abc\\anaconda3\\lib\\site-packages\\sklearn\\metrics\\_classification.py:1334: UndefinedMetricWarning: Precision and F-score are ill-defined and being set to 0.0 in labels with no predicted samples. Use `zero_division` parameter to control this behavior.\n",
      "  _warn_prf(average, modifier, msg_start, len(result))\n"
     ]
    },
    {
     "data": {
      "image/png": "[encoded data removed]",
      "text/plain": [
       "<Figure size 720x432 with 2 Axes>"
      ]
     },
     "metadata": {
      "needs_background": "light"
     },
     "output_type": "display_data"
    }
   ],
   "source": [
    "# Visualize the classification report\n",
    "report = classification_report(y_dev, y_pred_custom, output_dict=True)\n",
    "df_report = pd.DataFrame(report).transpose()\n",
    "\n",
    "# Plot using seaborn\n",
    "plt.figure(figsize=(10, 6))\n",
    "sns.heatmap(df_report.iloc[:-1, :].T, annot=True, cmap=\"YlGnBu\", fmt=\".3f\", linewidths=.5)\n",
    "plt.title(\"Classification Report - Dev Set\")\n",
    "plt.show()"
   ]
  },
  {
   "cell_type": "code",
   "execution_count": 35,
   "id": "8c03c70b",
   "metadata": {
    "scrolled": true
   },
   "outputs": [
    {
     "name": "stdout",
     "output_type": "stream",
     "text": [
      "Accuracy with Smoothing (alpha=0.1): 0.9920174165457184\n",
      "Accuracy with Smoothing (alpha=0.5): 0.9927431059506531\n",
      "Accuracy with Smoothing (alpha=1): 0.9956458635703919\n",
      "Accuracy with Smoothing (alpha=2): 0.9963715529753265\n",
      "Accuracy with Smoothing (alpha=5): 0.997822931785196\n"
     ]
    }
   ],
   "source": [
    "# Comparing the effect of Smoothing\n",
    "alpha_values = [0.1, 0.5, 1, 2, 5]\n",
    "for alpha in alpha_values:\n",
    "    custom_nb_classifier = NaiveBayesClassifier(alpha=alpha)\n",
    "    custom_nb_classifier.fit(x_train, y_train)\n",
    "    y_pred_custom = custom_nb_classifier.predict(x_dev)\n",
    "    accuracy = np.mean(y_pred_custom == y_dev)\n",
    "    print(f\"Accuracy with Smoothing (alpha={alpha}): {accuracy}\")\n"
   ]
  },
  {
   "cell_type": "code",
   "execution_count": 48,
   "id": "a7ab6bde",
   "metadata": {},
   "outputs": [
    {
     "name": "stdout",
     "output_type": "stream",
     "text": [
      "Accuracy with Smoothing (alpha=0.1): 0.9920174165457184\n",
      "Accuracy with Smoothing (alpha=0.5): 0.9927431059506531\n",
      "Accuracy with Smoothing (alpha=1): 0.9956458635703919\n",
      "Accuracy with Smoothing (alpha=2): 0.9963715529753265\n",
      "Accuracy with Smoothing (alpha=5): 0.997822931785196\n"
     ]
    },
    {
     "data": {
      "image/png": "[encoded data removed]",
      "text/plain": [
       "<Figure size 720x432 with 1 Axes>"
      ]
     },
     "metadata": {
      "needs_background": "light"
     },
     "output_type": "display_data"
    }
   ],
   "source": [
    "import matplotlib.pyplot as plt\n",
    "\n",
    "alpha_values = [0.1, 0.5, 1, 2, 5]\n",
    "accuracies = []\n",
    "\n",
    "for alpha in alpha_values:\n",
    "    custom_nb_classifier = NaiveBayesClassifier(alpha=alpha)\n",
    "    custom_nb_classifier.fit(x_train, y_train)\n",
    "    y_pred_custom = custom_nb_classifier.predict(x_dev)\n",
    "    accuracy = np.mean(y_pred_custom == y_dev)\n",
    "    accuracies.append(accuracy)\n",
    "    print(f\"Accuracy with Smoothing (alpha={alpha}): {accuracy}\")\n",
    "\n",
    "# Plot the results\n",
    "plt.figure(figsize=(10, 6))\n",
    "plt.plot(alpha_values, accuracies, marker='o')\n",
    "plt.title('Effect of Smoothing on Naive Bayes Classifier Accuracy')\n",
    "plt.xlabel('Smoothing Parameter (alpha)')\n",
    "plt.ylabel('Accuracy')\n",
    "plt.grid(True)\n",
    "plt.show()\n"
   ]
  },
  {
   "cell_type": "code",
   "execution_count": 43,
   "id": "219e2a8b",
   "metadata": {
    "scrolled": true
   },
   "outputs": [
    {
     "name": "stdout",
     "output_type": "stream",
     "text": [
      "Top 10 words predicting LLM:\n",
      "['citizen', 'president', 'elector', 'car', 'candidate', 'college', 'win', 'electoral', 'state', 'vote']\n",
      "\n",
      "Top 10 words predicting Human:\n",
      "['candidate', 'elector', 'use', 'president', 'state', 'college', 'people', 'electoral', 'vote', 'car']\n"
     ]
    }
   ],
   "source": [
    "# Derive Top 10 words that predict each class\n",
    "top_words_llm = [vocab[i] for i in np.argsort(llm_probs)[-10:]]\n",
    "top_words_human = [vocab[i] for i in np.argsort(human_probs)[-10:]]\n",
    "\n",
    "print(\"Top 10 words predicting LLM:\")\n",
    "print(top_words_llm)\n",
    "print(\"\\nTop 10 words predicting Human:\")\n",
    "print(top_words_human)\n",
    "\n",
    "# Using the test dataset\n",
    "test_df = pd.read_csv('llm-detect-ai-generated-text/test_essays.csv')\n",
    "test_df['tokenized_Response'] = test_df['text'].apply(spacy_tokenizer)\n",
    "test_vec = vectorizer.transform(test_df['tokenized_Response'])"
   ]
  },
  {
   "cell_type": "code",
   "execution_count": null,
   "id": "134da571",
   "metadata": {},
   "outputs": [],
   "source": []
  },
  {
   "cell_type": "code",
   "execution_count": 49,
   "id": "3952af55",
   "metadata": {},
   "outputs": [
    {
     "data": {
      "image/png": "[encoded data removed]",
      "text/plain": [
       "<Figure size 720x576 with 2 Axes>"
      ]
     },
     "metadata": {
      "needs_background": "light"
     },
     "output_type": "display_data"
    }
   ],
   "source": [
    "import matplotlib.pyplot as plt\n",
    "\n",
    "# Assuming you have llm_probs and human_probs defined\n",
    "top_words_llm = [vocab[i] for i in np.argsort(llm_probs)[-10:]]\n",
    "top_words_human = [vocab[i] for i in np.argsort(human_probs)[-10:]]\n",
    "\n",
    "# Plot the results\n",
    "fig, (ax1, ax2) = plt.subplots(2, 1, figsize=(10, 8))\n",
    "\n",
    "# Bar plot for Top 10 words predicting LLM\n",
    "ax1.barh(top_words_llm, llm_probs[np.argsort(llm_probs)[-10:]])\n",
    "ax1.set_title('Top 10 words predicting LLM')\n",
    "ax1.set_xlabel('Probability')\n",
    "\n",
    "# Bar plot for Top 10 words predicting Human\n",
    "ax2.barh(top_words_human, human_probs[np.argsort(human_probs)[-10:]])\n",
    "ax2.set_title('Top 10 words predicting Human')\n",
    "ax2.set_xlabel('Probability')\n",
    "\n",
    "plt.tight_layout()\n",
    "plt.show()\n"
   ]
  }
 ],
 "metadata": {
  "kernelspec": {
   "display_name": "Python 3 (ipykernel)",
   "language": "python",
   "name": "python3"
  },
  "language_info": {
   "codemirror_mode": {
    "name": "ipython",
    "version": 3
   },
   "file_extension": ".py",
   "mimetype": "text/x-python",
   "name": "python",
   "nbconvert_exporter": "python",
   "pygments_lexer": "ipython3",
   "version": "3.9.7"
  }
 },
 "nbformat": 4,
 "nbformat_minor": 5
}
